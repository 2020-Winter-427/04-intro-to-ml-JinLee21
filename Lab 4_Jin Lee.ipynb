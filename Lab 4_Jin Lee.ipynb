{
 "cells": [
  {
   "cell_type": "markdown",
   "metadata": {},
   "source": [
    "# Lab 4 / Intro to ML"
   ]
  },
  {
   "cell_type": "markdown",
   "metadata": {},
   "source": [
    "PHYS 427\\\n",
    "2/11/2020 (Tue)\\\n",
    "Jin Kyoung Lee\n",
    "\n",
    "In this assignment, we will look into two types of machine learning: Booested Decision Trees (BDT) and Neural Networks (NN). By using the same data used in lab 3, we will build and train BDT and NN to predict the decay length (Lxy). Moreover, the actual data and predicted data will be compared to see which type of ML works better."
   ]
  },
  {
   "cell_type": "code",
   "execution_count": 1,
   "metadata": {},
   "outputs": [],
   "source": [
    "# Importing libraries\n",
    "%matplotlib inline\n",
    "import matplotlib\n",
    "import matplotlib.pyplot as plt\n",
    "import numpy as np\n",
    "from numpy.polynomial.polynomial import polyfit\n",
    "import seaborn as sns\n",
    "import uproot\n",
    "import pandas as pd"
   ]
  },
  {
   "cell_type": "code",
   "execution_count": 2,
   "metadata": {},
   "outputs": [],
   "source": [
    "import sklearn\n",
    "from sklearn.model_selection import train_test_split\n",
    "from sklearn.tree import DecisionTreeRegressor\n",
    "from sklearn.preprocessing import StandardScaler\n",
    "from sklearn.neural_network import MLPRegressor"
   ]
  },
  {
   "cell_type": "markdown",
   "metadata": {},
   "source": [
    "### 1. Boosted Decision Trees and Neural Notworks\n",
    "#### - Boosted Decision Trees\n",
    "Decision tree is an analysis method that shows decision rules into a tree structure to perform classification and prediction. Decision tree analyzes data and represents patterns that exist between the data as a combination of predictable rules. In this assignment, regression tree will be used, so the node will be splited by the mean and standard deviation of the target value. \n",
    "#### - Neural Networks\n",
    "Neural Network is built based on the operating principles of human neurons to train computers. There are input layer, hidden layer, and output layer in Neural Network, and between those layers, there are two components called weight and bias. The output is generated through activation function (Sigmoid, ReLU, etc.) after multiplying the input by the weight and adding bias. The training can be done by going through optimization process of finding appropriate values by changing weight and bias to produce desired output."
   ]
  },
  {
   "cell_type": "markdown",
   "metadata": {},
   "source": [
    "### 2. Building BDT and NN for decay length Lxy"
   ]
  },
  {
   "cell_type": "code",
   "execution_count": 3,
   "metadata": {},
   "outputs": [],
   "source": [
    "# Importing data\n",
    "\n",
    "# Defining function to put root files into data frame\n",
    "def df(dfFile, fileName, treeDefine, treeName):\n",
    "    dfFile = uproot.open(fileName)\n",
    "    treeDefine = dfFile[treeName]\n",
    "    return treeDefine.pandas.df([\"IsLLP\",\"JetPt\",\"L[xy]\",\"EMM_BL0\",\"EMM_EL0\",\"EH_EL0\",\"EH_CBL0\",\"EH_TGL0\",\"EH_EBL0\",\"FC_L0\"])\n",
    "\n",
    "# Assigning DataFrames\n",
    "df1 = df(\"df_1\",\"LLPfiles/df_1.root\",\"df_1_tree\",\"pandas_tree218\")\n",
    "df2 = df(\"df_2\",\"LLPfiles/df_2.root\",\"df_2_tree\",\"pandas_tree51358\")\n",
    "df3 = df(\"df_3\",\"LLPfiles/df_3.root\",\"df_3_tree\",\"pandas_tree53278\")\n",
    "df4 = df(\"df_4\",\"LLPfiles/df_4.root\",\"df_4_tree\",\"pandas_tree52558\")\n",
    "df5 = df(\"df_5\",\"LLPfiles/df_5.root\",\"df_5_tree\",\"pandas_tree53038\")\n",
    "df6 = df(\"df_6\",\"LLPfiles/df_6.root\",\"df_6_tree\",\"pandas_tree54718\")\n",
    "\n",
    "# Merging files into single DataFrame\n",
    "dfMerged = [df1,df2,df3,df4,df5,df6]\n",
    "df_all = pd.concat(dfMerged,keys=['df1','df2','df3','df4','df5','df6']) # categorizing the files"
   ]
  },
  {
   "cell_type": "code",
   "execution_count": 4,
   "metadata": {},
   "outputs": [],
   "source": [
    "# Assigning LLP = True, False data\n",
    "df_isLLP = df_all[df_all.IsLLP.eq(True)]\n",
    "df_notLLP = df_all[df_all.IsLLP.eq(False)]"
   ]
  },
  {
   "cell_type": "markdown",
   "metadata": {},
   "source": [
    "#### - Boosted Decision Trees"
   ]
  },
  {
   "cell_type": "code",
   "execution_count": 5,
   "metadata": {},
   "outputs": [],
   "source": [
    "# Splitting dataset in features and target variable \n",
    "feature_cols = [\"EMM_BL0\",\"EMM_EL0\",\"EH_EL0\",\"EH_CBL0\",\"EH_TGL0\",\"EH_EBL0\",\"FC_L0\"]\n",
    "X = df_isLLP[feature_cols] # Features\n",
    "y = np.sqrt((df_isLLP.Lx**2)+(df_isLLP.Ly**2)) # Target variable\n",
    "\n",
    "# Splitting dataset into training set and test set\n",
    "X_train, X_test, y_train, y_test = train_test_split(X, y, test_size = 0.25, random_state = 42)"
   ]
  },
  {
   "cell_type": "code",
   "execution_count": 6,
   "metadata": {},
   "outputs": [],
   "source": [
    "# Create Decision Tree Regressor object\n",
    "tree = DecisionTreeRegressor()"
   ]
  },
  {
   "cell_type": "code",
   "execution_count": 7,
   "metadata": {},
   "outputs": [
    {
     "data": {
      "text/plain": [
       "DecisionTreeRegressor(ccp_alpha=0.0, criterion='mse', max_depth=None,\n",
       "                      max_features=None, max_leaf_nodes=None,\n",
       "                      min_impurity_decrease=0.0, min_impurity_split=None,\n",
       "                      min_samples_leaf=1, min_samples_split=2,\n",
       "                      min_weight_fraction_leaf=0.0, presort='deprecated',\n",
       "                      random_state=None, splitter='best')"
      ]
     },
     "execution_count": 7,
     "metadata": {},
     "output_type": "execute_result"
    }
   ],
   "source": [
    "# Train Decision Tree Regressor\n",
    "tree.fit(X_train, y_train)"
   ]
  },
  {
   "cell_type": "code",
   "execution_count": 8,
   "metadata": {},
   "outputs": [],
   "source": [
    "# Predicted Lxy by BDT\n",
    "y_pred_BDT = tree.predict(X_test)"
   ]
  },
  {
   "cell_type": "code",
   "execution_count": 9,
   "metadata": {},
   "outputs": [],
   "source": [
    "# Plotting scatter plot to see the correlation of actual vs predicted (by BDT) Lxy\n",
    "def scatter(test, pred):\n",
    "    plt.figure(figsize = (10, 5))\n",
    "    plt.scatter(test, pred, s = 3)\n",
    "    plt.xlabel(\"Actual Lxy\")\n",
    "    plt.ylabel(\"Predicted Lxy\")\n",
    "    plt.grid(which='major', color='#666666', linestyle='-', alpha=0.2)\n",
    "    plt.show()"
   ]
  },
  {
   "cell_type": "code",
   "execution_count": 10,
   "metadata": {},
   "outputs": [
    {
     "data": {
      "image/png": "[encoded data removed]",
      "text/plain": [
       "<Figure size 720x360 with 1 Axes>"
      ]
     },
     "metadata": {
      "needs_background": "light"
     },
     "output_type": "display_data"
    }
   ],
   "source": [
    "scatter(y_test, y_pred_BDT)"
   ]
  },
  {
   "cell_type": "code",
   "execution_count": 11,
   "metadata": {},
   "outputs": [],
   "source": [
    "def hist(test, pred, xlim, ylim):\n",
    "    plt.figure(figsize = (10, 5))\n",
    "    plt.hist2d(test, pred, bins = 500)\n",
    "    cb = plt.colorbar()\n",
    "    #cb.set_label('colorbar label')\n",
    "    plt.xlabel(\"Actual Lxy\")\n",
    "    plt.ylabel(\"Predicted Lxy\")\n",
    "    plt.grid(which='major', color='#666666', linestyle='-', alpha=0.5)\n",
    "    plt.xlim(xlim)\n",
    "    plt.ylim(ylim)\n",
    "    plt.show()"
   ]
  },
  {
   "cell_type": "code",
   "execution_count": 12,
   "metadata": {},
   "outputs": [
    {
     "data": {
      "image/png": "[encoded data removed]",
      "text/plain": [
       "<Figure size 720x360 with 2 Axes>"
      ]
     },
     "metadata": {
      "needs_background": "light"
     },
     "output_type": "display_data"
    }
   ],
   "source": [
    "hist(y_test, y_pred_BDT, [0,4000], [0,4000])"
   ]
  },
  {
   "cell_type": "markdown",
   "metadata": {},
   "source": [
    "#### - Neural Notworks (MLPRegressor)"
   ]
  },
  {
   "cell_type": "code",
   "execution_count": 13,
   "metadata": {},
   "outputs": [
    {
     "data": {
      "text/plain": [
       "StandardScaler(copy=True, with_mean=True, with_std=True)"
      ]
     },
     "execution_count": 13,
     "metadata": {},
     "output_type": "execute_result"
    }
   ],
   "source": [
    "# Normalize data\n",
    "scaler = StandardScaler()\n",
    "\n",
    "# Fitting only to the training data\n",
    "scaler.fit(X_train)"
   ]
  },
  {
   "cell_type": "code",
   "execution_count": 14,
   "metadata": {},
   "outputs": [],
   "source": [
    "# Applying the transformations to the data\n",
    "X_train = scaler.transform(X_train)\n",
    "X_test = scaler.transform(X_test)"
   ]
  },
  {
   "cell_type": "code",
   "execution_count": 15,
   "metadata": {},
   "outputs": [],
   "source": [
    "# Create Neural Network object\n",
    "mlp = MLPRegressor(hidden_layer_sizes = (7,1), max_iter = 300, alpha = 0.0001, random_state = 42)"
   ]
  },
  {
   "cell_type": "code",
   "execution_count": 16,
   "metadata": {},
   "outputs": [
    {
     "name": "stderr",
     "output_type": "stream",
     "text": [
      "/opt/anaconda3/lib/python3.7/site-packages/sklearn/neural_network/_multilayer_perceptron.py:571: ConvergenceWarning: Stochastic Optimizer: Maximum iterations (300) reached and the optimization hasn't converged yet.\n",
      "  % self.max_iter, ConvergenceWarning)\n"
     ]
    },
    {
     "data": {
      "text/plain": [
       "MLPRegressor(activation='relu', alpha=0.0001, batch_size='auto', beta_1=0.9,\n",
       "             beta_2=0.999, early_stopping=False, epsilon=1e-08,\n",
       "             hidden_layer_sizes=(7, 1), learning_rate='constant',\n",
       "             learning_rate_init=0.001, max_fun=15000, max_iter=300,\n",
       "             momentum=0.9, n_iter_no_change=10, nesterovs_momentum=True,\n",
       "             power_t=0.5, random_state=42, shuffle=True, solver='adam',\n",
       "             tol=0.0001, validation_fraction=0.1, verbose=False,\n",
       "             warm_start=False)"
      ]
     },
     "execution_count": 16,
     "metadata": {},
     "output_type": "execute_result"
    }
   ],
   "source": [
    "# Train Neural Network\n",
    "mlp.fit(X_train, y_train)"
   ]
  },
  {
   "cell_type": "code",
   "execution_count": 17,
   "metadata": {},
   "outputs": [],
   "source": [
    "# Predicted Lxy by NN\n",
    "y_pred_NN = mlp.predict(X_test)"
   ]
  },
  {
   "cell_type": "code",
   "execution_count": 18,
   "metadata": {},
   "outputs": [
    {
     "data": {
      "image/png": "[encoded data removed]",
      "text/plain": [
       "<Figure size 720x360 with 1 Axes>"
      ]
     },
     "metadata": {
      "needs_background": "light"
     },
     "output_type": "display_data"
    }
   ],
   "source": [
    "# Scatter plot to see the correlation of actual vs predicted (by NN) Lxy\n",
    "scatter(y_test, y_pred_NN)"
   ]
  },
  {
   "cell_type": "code",
   "execution_count": 19,
   "metadata": {},
   "outputs": [
    {
     "data": {
      "image/png": "[encoded data removed]",
      "text/plain": [
       "<Figure size 720x360 with 2 Axes>"
      ]
     },
     "metadata": {
      "needs_background": "light"
     },
     "output_type": "display_data"
    }
   ],
   "source": [
    "hist(y_test, y_pred_NN, [0,3500], [500,3000])"
   ]
  },
  {
   "cell_type": "markdown",
   "metadata": {},
   "source": [
    "#### - Which algorithm does better?"
   ]
  },
  {
   "cell_type": "code",
   "execution_count": 20,
   "metadata": {},
   "outputs": [
    {
     "data": {
      "text/html": [
       "<div>\n",
       "<style scoped>\n",
       "    .dataframe tbody tr th:only-of-type {\n",
       "        vertical-align: middle;\n",
       "    }\n",
       "\n",
       "    .dataframe tbody tr th {\n",
       "        vertical-align: top;\n",
       "    }\n",
       "\n",
       "    .dataframe thead th {\n",
       "        text-align: right;\n",
       "    }\n",
       "</style>\n",
       "<table border=\"1\" class=\"dataframe\">\n",
       "  <thead>\n",
       "    <tr style=\"text-align: right;\">\n",
       "      <th></th>\n",
       "      <th></th>\n",
       "      <th>Actual</th>\n",
       "      <th>Predicted (BDT)</th>\n",
       "      <th>Predicted (NN)</th>\n",
       "    </tr>\n",
       "    <tr>\n",
       "      <th></th>\n",
       "      <th>entry</th>\n",
       "      <th></th>\n",
       "      <th></th>\n",
       "      <th></th>\n",
       "    </tr>\n",
       "  </thead>\n",
       "  <tbody>\n",
       "    <tr>\n",
       "      <th>df6</th>\n",
       "      <th>355360</th>\n",
       "      <td>1724.750922</td>\n",
       "      <td>2468.868487</td>\n",
       "      <td>1779.358830</td>\n",
       "    </tr>\n",
       "    <tr>\n",
       "      <th rowspan=\"2\" valign=\"top\">df4</th>\n",
       "      <th>76668</th>\n",
       "      <td>799.605175</td>\n",
       "      <td>612.576984</td>\n",
       "      <td>892.621898</td>\n",
       "    </tr>\n",
       "    <tr>\n",
       "      <th>276579</th>\n",
       "      <td>1365.612558</td>\n",
       "      <td>1881.961939</td>\n",
       "      <td>1648.053277</td>\n",
       "    </tr>\n",
       "    <tr>\n",
       "      <th>df2</th>\n",
       "      <th>136013</th>\n",
       "      <td>3143.612305</td>\n",
       "      <td>2812.840213</td>\n",
       "      <td>2789.642432</td>\n",
       "    </tr>\n",
       "    <tr>\n",
       "      <th>df3</th>\n",
       "      <th>220514</th>\n",
       "      <td>1596.819015</td>\n",
       "      <td>1579.964297</td>\n",
       "      <td>1716.737408</td>\n",
       "    </tr>\n",
       "    <tr>\n",
       "      <th>...</th>\n",
       "      <th>...</th>\n",
       "      <td>...</td>\n",
       "      <td>...</td>\n",
       "      <td>...</td>\n",
       "    </tr>\n",
       "    <tr>\n",
       "      <th>df2</th>\n",
       "      <th>433003</th>\n",
       "      <td>2730.275873</td>\n",
       "      <td>2769.293908</td>\n",
       "      <td>2720.276821</td>\n",
       "    </tr>\n",
       "    <tr>\n",
       "      <th>df5</th>\n",
       "      <th>249022</th>\n",
       "      <td>2371.504219</td>\n",
       "      <td>2299.940245</td>\n",
       "      <td>1977.976321</td>\n",
       "    </tr>\n",
       "    <tr>\n",
       "      <th>df6</th>\n",
       "      <th>990130</th>\n",
       "      <td>2146.646918</td>\n",
       "      <td>1916.424088</td>\n",
       "      <td>2251.634983</td>\n",
       "    </tr>\n",
       "    <tr>\n",
       "      <th>df3</th>\n",
       "      <th>265054</th>\n",
       "      <td>2204.970510</td>\n",
       "      <td>2445.802340</td>\n",
       "      <td>2352.753623</td>\n",
       "    </tr>\n",
       "    <tr>\n",
       "      <th>df6</th>\n",
       "      <th>1501457</th>\n",
       "      <td>3558.815588</td>\n",
       "      <td>2725.824408</td>\n",
       "      <td>2712.188262</td>\n",
       "    </tr>\n",
       "  </tbody>\n",
       "</table>\n",
       "<p>176803 rows × 3 columns</p>\n",
       "</div>"
      ],
      "text/plain": [
       "                  Actual  Predicted (BDT)  Predicted (NN)\n",
       "    entry                                                \n",
       "df6 355360   1724.750922      2468.868487     1779.358830\n",
       "df4 76668     799.605175       612.576984      892.621898\n",
       "    276579   1365.612558      1881.961939     1648.053277\n",
       "df2 136013   3143.612305      2812.840213     2789.642432\n",
       "df3 220514   1596.819015      1579.964297     1716.737408\n",
       "...                  ...              ...             ...\n",
       "df2 433003   2730.275873      2769.293908     2720.276821\n",
       "df5 249022   2371.504219      2299.940245     1977.976321\n",
       "df6 990130   2146.646918      1916.424088     2251.634983\n",
       "df3 265054   2204.970510      2445.802340     2352.753623\n",
       "df6 1501457  3558.815588      2725.824408     2712.188262\n",
       "\n",
       "[176803 rows x 3 columns]"
      ]
     },
     "execution_count": 20,
     "metadata": {},
     "output_type": "execute_result"
    }
   ],
   "source": [
    "# Putting actual and predicted (both BDT and NN) Lxy in a DataFrame\n",
    "df_ML = pd.DataFrame({'Actual': y_test, 'Predicted (BDT)': y_pred_BDT,\n",
    "                      'Predicted (NN)': y_pred_NN})\n",
    "df_ML"
   ]
  },
  {
   "cell_type": "markdown",
   "metadata": {},
   "source": [
    "By seeing the scatter plots and histograms, It seems Boosted Decision Trees gives better results (predicted Lxy using NN is closer to the actual Lxy) than Neural Networks. The histogram for actual Lxy vs. predicted Lxy by BDT shows clearer correlation between actual and predicted value than the histogram for NN results."
   ]
  },
  {
   "cell_type": "markdown",
   "metadata": {},
   "source": [
    "### 3. Running regression on IsLLP = False jets"
   ]
  },
  {
   "cell_type": "code",
   "execution_count": 21,
   "metadata": {},
   "outputs": [],
   "source": [
    "X_notLLP = df_notLLP[feature_cols]\n",
    "y_notLLP = np.sqrt((df_notLLP.Lx**2)+(df_notLLP.Ly**2))\n",
    "X_notLLP_train, X_notLLP_test, y_notLLP_train, y_notLLP_test = train_test_split(X_notLLP, y_notLLP, test_size = 0.25, random_state = 42)"
   ]
  },
  {
   "cell_type": "markdown",
   "metadata": {},
   "source": [
    "#### - BDT"
   ]
  },
  {
   "cell_type": "code",
   "execution_count": 22,
   "metadata": {},
   "outputs": [
    {
     "data": {
      "text/plain": [
       "DecisionTreeRegressor(ccp_alpha=0.0, criterion='mse', max_depth=None,\n",
       "                      max_features=None, max_leaf_nodes=None,\n",
       "                      min_impurity_decrease=0.0, min_impurity_split=None,\n",
       "                      min_samples_leaf=1, min_samples_split=2,\n",
       "                      min_weight_fraction_leaf=0.0, presort='deprecated',\n",
       "                      random_state=None, splitter='best')"
      ]
     },
     "execution_count": 22,
     "metadata": {},
     "output_type": "execute_result"
    }
   ],
   "source": [
    "tree.fit(X_notLLP_train, y_notLLP_train)"
   ]
  },
  {
   "cell_type": "code",
   "execution_count": 23,
   "metadata": {},
   "outputs": [],
   "source": [
    "y_notLLP_pred_BDT = tree.predict(X_notLLP_test)"
   ]
  },
  {
   "cell_type": "code",
   "execution_count": 24,
   "metadata": {},
   "outputs": [
    {
     "data": {
      "image/png": "[encoded data removed]",
      "text/plain": [
       "<Figure size 720x360 with 1 Axes>"
      ]
     },
     "metadata": {
      "needs_background": "light"
     },
     "output_type": "display_data"
    }
   ],
   "source": [
    "scatter(y_notLLP_test, y_notLLP_pred_BDT)"
   ]
  },
  {
   "cell_type": "markdown",
   "metadata": {},
   "source": [
    "#### - NN"
   ]
  },
  {
   "cell_type": "code",
   "execution_count": 25,
   "metadata": {},
   "outputs": [
    {
     "data": {
      "text/plain": [
       "MLPRegressor(activation='relu', alpha=0.0001, batch_size='auto', beta_1=0.9,\n",
       "             beta_2=0.999, early_stopping=False, epsilon=1e-08,\n",
       "             hidden_layer_sizes=(7, 1), learning_rate='constant',\n",
       "             learning_rate_init=0.001, max_fun=15000, max_iter=300,\n",
       "             momentum=0.9, n_iter_no_change=10, nesterovs_momentum=True,\n",
       "             power_t=0.5, random_state=42, shuffle=True, solver='adam',\n",
       "             tol=0.0001, validation_fraction=0.1, verbose=False,\n",
       "             warm_start=False)"
      ]
     },
     "execution_count": 25,
     "metadata": {},
     "output_type": "execute_result"
    }
   ],
   "source": [
    "mlp.fit(X_notLLP_train, y_notLLP_train)"
   ]
  },
  {
   "cell_type": "code",
   "execution_count": 26,
   "metadata": {},
   "outputs": [],
   "source": [
    "y_notLLP_pred_NN = tree.predict(X_notLLP_test)"
   ]
  },
  {
   "cell_type": "code",
   "execution_count": 27,
   "metadata": {},
   "outputs": [
    {
     "data": {
      "image/png": "[encoded data removed]",
      "text/plain": [
       "<Figure size 720x360 with 1 Axes>"
      ]
     },
     "metadata": {
      "needs_background": "light"
     },
     "output_type": "display_data"
    }
   ],
   "source": [
    "scatter(y_notLLP_test, y_notLLP_pred_NN)"
   ]
  },
  {
   "cell_type": "code",
   "execution_count": 28,
   "metadata": {},
   "outputs": [
    {
     "data": {
      "text/html": [
       "<div>\n",
       "<style scoped>\n",
       "    .dataframe tbody tr th:only-of-type {\n",
       "        vertical-align: middle;\n",
       "    }\n",
       "\n",
       "    .dataframe tbody tr th {\n",
       "        vertical-align: top;\n",
       "    }\n",
       "\n",
       "    .dataframe thead th {\n",
       "        text-align: right;\n",
       "    }\n",
       "</style>\n",
       "<table border=\"1\" class=\"dataframe\">\n",
       "  <thead>\n",
       "    <tr style=\"text-align: right;\">\n",
       "      <th></th>\n",
       "      <th></th>\n",
       "      <th>Actual</th>\n",
       "      <th>Predicted (BDT)</th>\n",
       "      <th>Predicted (NN)</th>\n",
       "    </tr>\n",
       "    <tr>\n",
       "      <th></th>\n",
       "      <th>entry</th>\n",
       "      <th></th>\n",
       "      <th></th>\n",
       "      <th></th>\n",
       "    </tr>\n",
       "  </thead>\n",
       "  <tbody>\n",
       "    <tr>\n",
       "      <th>df3</th>\n",
       "      <th>95451</th>\n",
       "      <td>0.0</td>\n",
       "      <td>0.0</td>\n",
       "      <td>0.0</td>\n",
       "    </tr>\n",
       "    <tr>\n",
       "      <th rowspan=\"2\" valign=\"top\">df6</th>\n",
       "      <th>1199445</th>\n",
       "      <td>0.0</td>\n",
       "      <td>0.0</td>\n",
       "      <td>0.0</td>\n",
       "    </tr>\n",
       "    <tr>\n",
       "      <th>1591788</th>\n",
       "      <td>0.0</td>\n",
       "      <td>0.0</td>\n",
       "      <td>0.0</td>\n",
       "    </tr>\n",
       "    <tr>\n",
       "      <th>df2</th>\n",
       "      <th>23269</th>\n",
       "      <td>0.0</td>\n",
       "      <td>0.0</td>\n",
       "      <td>0.0</td>\n",
       "    </tr>\n",
       "    <tr>\n",
       "      <th>df6</th>\n",
       "      <th>1450220</th>\n",
       "      <td>0.0</td>\n",
       "      <td>0.0</td>\n",
       "      <td>0.0</td>\n",
       "    </tr>\n",
       "    <tr>\n",
       "      <th>...</th>\n",
       "      <th>...</th>\n",
       "      <td>...</td>\n",
       "      <td>...</td>\n",
       "      <td>...</td>\n",
       "    </tr>\n",
       "    <tr>\n",
       "      <th>df3</th>\n",
       "      <th>179289</th>\n",
       "      <td>0.0</td>\n",
       "      <td>0.0</td>\n",
       "      <td>0.0</td>\n",
       "    </tr>\n",
       "    <tr>\n",
       "      <th>df4</th>\n",
       "      <th>143979</th>\n",
       "      <td>0.0</td>\n",
       "      <td>0.0</td>\n",
       "      <td>0.0</td>\n",
       "    </tr>\n",
       "    <tr>\n",
       "      <th rowspan=\"2\" valign=\"top\">df2</th>\n",
       "      <th>630616</th>\n",
       "      <td>0.0</td>\n",
       "      <td>0.0</td>\n",
       "      <td>0.0</td>\n",
       "    </tr>\n",
       "    <tr>\n",
       "      <th>295002</th>\n",
       "      <td>0.0</td>\n",
       "      <td>0.0</td>\n",
       "      <td>0.0</td>\n",
       "    </tr>\n",
       "    <tr>\n",
       "      <th>df6</th>\n",
       "      <th>1114634</th>\n",
       "      <td>0.0</td>\n",
       "      <td>0.0</td>\n",
       "      <td>0.0</td>\n",
       "    </tr>\n",
       "  </tbody>\n",
       "</table>\n",
       "<p>685263 rows × 3 columns</p>\n",
       "</div>"
      ],
      "text/plain": [
       "             Actual  Predicted (BDT)  Predicted (NN)\n",
       "    entry                                           \n",
       "df3 95451       0.0              0.0             0.0\n",
       "df6 1199445     0.0              0.0             0.0\n",
       "    1591788     0.0              0.0             0.0\n",
       "df2 23269       0.0              0.0             0.0\n",
       "df6 1450220     0.0              0.0             0.0\n",
       "...             ...              ...             ...\n",
       "df3 179289      0.0              0.0             0.0\n",
       "df4 143979      0.0              0.0             0.0\n",
       "df2 630616      0.0              0.0             0.0\n",
       "    295002      0.0              0.0             0.0\n",
       "df6 1114634     0.0              0.0             0.0\n",
       "\n",
       "[685263 rows x 3 columns]"
      ]
     },
     "execution_count": 28,
     "metadata": {},
     "output_type": "execute_result"
    }
   ],
   "source": [
    "df_ML_notLLP = pd.DataFrame({'Actual': y_notLLP_test, 'Predicted (BDT)': y_notLLP_pred_BDT,\n",
    "                      'Predicted (NN)': y_notLLP_pred_NN})\n",
    "df_ML_notLLP"
   ]
  },
  {
   "cell_type": "markdown",
   "metadata": {},
   "source": [
    "It is shown at the above results, when running the regression on IsLLP = False jets, the predicted Lxy values match the actual Lxy, which is zero decay length."
   ]
  },
  {
   "cell_type": "markdown",
   "metadata": {},
   "source": [
    "### 4. Running regression including some of IsLLP = False"
   ]
  },
  {
   "cell_type": "code",
   "execution_count": 29,
   "metadata": {},
   "outputs": [],
   "source": [
    "# Including some LLP = False to LLP = True\n",
    "combLLP = pd.concat([df_notLLP[3:5500], df_isLLP, df_notLLP[45000:100000]])\n",
    "# Number of LLP True data used: len(df_isLLP) = 707209\n",
    "# Number of LLP False data used: len(df_notLLP[3:5500]) + len(df_notLLP[45000:100000]) = 60497"
   ]
  },
  {
   "cell_type": "code",
   "execution_count": 30,
   "metadata": {},
   "outputs": [],
   "source": [
    "X_combLLP = combLLP[feature_cols]\n",
    "y_combLLP = np.sqrt((combLLP.Lx**2)+(combLLP.Ly**2))\n",
    "X_combLLP_train, X_combLLP_test, y_combLLP_train, y_combLLP_test = train_test_split(X_combLLP, y_combLLP, test_size = 0.25, random_state = 42)"
   ]
  },
  {
   "cell_type": "markdown",
   "metadata": {},
   "source": [
    "#### - BDT"
   ]
  },
  {
   "cell_type": "code",
   "execution_count": 31,
   "metadata": {},
   "outputs": [
    {
     "data": {
      "text/plain": [
       "DecisionTreeRegressor(ccp_alpha=0.0, criterion='mse', max_depth=None,\n",
       "                      max_features=None, max_leaf_nodes=None,\n",
       "                      min_impurity_decrease=0.0, min_impurity_split=None,\n",
       "                      min_samples_leaf=1, min_samples_split=2,\n",
       "                      min_weight_fraction_leaf=0.0, presort='deprecated',\n",
       "                      random_state=None, splitter='best')"
      ]
     },
     "execution_count": 31,
     "metadata": {},
     "output_type": "execute_result"
    }
   ],
   "source": [
    "tree.fit(X_combLLP_train, y_combLLP_train)"
   ]
  },
  {
   "cell_type": "code",
   "execution_count": 32,
   "metadata": {},
   "outputs": [],
   "source": [
    "y_combLLP_pred_BDT = tree.predict(X_combLLP_test)"
   ]
  },
  {
   "cell_type": "code",
   "execution_count": 33,
   "metadata": {},
   "outputs": [
    {
     "data": {
      "image/png": "[encoded data removed]",
      "text/plain": [
       "<Figure size 720x360 with 1 Axes>"
      ]
     },
     "metadata": {
      "needs_background": "light"
     },
     "output_type": "display_data"
    }
   ],
   "source": [
    "scatter(y_combLLP_test, y_combLLP_pred_BDT)"
   ]
  },
  {
   "cell_type": "code",
   "execution_count": 34,
   "metadata": {},
   "outputs": [
    {
     "data": {
      "image/png": "[encoded data removed]",
      "text/plain": [
       "<Figure size 720x360 with 2 Axes>"
      ]
     },
     "metadata": {
      "needs_background": "light"
     },
     "output_type": "display_data"
    }
   ],
   "source": [
    "hist(y_combLLP_test, y_combLLP_pred_BDT, [0,3500], [0,3500])"
   ]
  },
  {
   "cell_type": "markdown",
   "metadata": {},
   "source": [
    "#### - NN"
   ]
  },
  {
   "cell_type": "code",
   "execution_count": 40,
   "metadata": {},
   "outputs": [
    {
     "name": "stderr",
     "output_type": "stream",
     "text": [
      "/opt/anaconda3/lib/python3.7/site-packages/sklearn/neural_network/_multilayer_perceptron.py:573: UserWarning: Training interrupted by user.\n",
      "  warnings.warn(\"Training interrupted by user.\")\n"
     ]
    },
    {
     "data": {
      "text/plain": [
       "MLPRegressor(activation='relu', alpha=0.0001, batch_size='auto', beta_1=0.9,\n",
       "             beta_2=0.999, early_stopping=False, epsilon=1e-08,\n",
       "             hidden_layer_sizes=(7, 1), learning_rate='constant',\n",
       "             learning_rate_init=0.001, max_fun=15000, max_iter=300,\n",
       "             momentum=0.9, n_iter_no_change=10, nesterovs_momentum=True,\n",
       "             power_t=0.5, random_state=42, shuffle=True, solver='adam',\n",
       "             tol=0.0001, validation_fraction=0.1, verbose=False,\n",
       "             warm_start=False)"
      ]
     },
     "execution_count": 40,
     "metadata": {},
     "output_type": "execute_result"
    }
   ],
   "source": [
    "mlp.fit(X_combLLP_train, y_combLLP_train)"
   ]
  },
  {
   "cell_type": "code",
   "execution_count": null,
   "metadata": {},
   "outputs": [],
   "source": [
    "# Training interrupted because of training time took too long."
   ]
  },
  {
   "cell_type": "code",
   "execution_count": 41,
   "metadata": {},
   "outputs": [],
   "source": [
    "y_combLLP_pred_NN = tree.predict(X_combLLP_test)"
   ]
  },
  {
   "cell_type": "code",
   "execution_count": 42,
   "metadata": {},
   "outputs": [
    {
     "data": {
      "image/png": "[encoded data removed]",
      "text/plain": [
       "<Figure size 720x360 with 1 Axes>"
      ]
     },
     "metadata": {
      "needs_background": "light"
     },
     "output_type": "display_data"
    }
   ],
   "source": [
    "scatter(y_combLLP_test, y_combLLP_pred_NN)"
   ]
  },
  {
   "cell_type": "code",
   "execution_count": 43,
   "metadata": {},
   "outputs": [
    {
     "data": {
      "image/png": "[encoded data removed]",
      "text/plain": [
       "<Figure size 720x360 with 2 Axes>"
      ]
     },
     "metadata": {
      "needs_background": "light"
     },
     "output_type": "display_data"
    }
   ],
   "source": [
    "hist(y_combLLP_test, y_combLLP_pred_NN, [0,3500], [0,3500])"
   ]
  },
  {
   "cell_type": "code",
   "execution_count": 44,
   "metadata": {},
   "outputs": [
    {
     "data": {
      "text/html": [
       "<div>\n",
       "<style scoped>\n",
       "    .dataframe tbody tr th:only-of-type {\n",
       "        vertical-align: middle;\n",
       "    }\n",
       "\n",
       "    .dataframe tbody tr th {\n",
       "        vertical-align: top;\n",
       "    }\n",
       "\n",
       "    .dataframe thead th {\n",
       "        text-align: right;\n",
       "    }\n",
       "</style>\n",
       "<table border=\"1\" class=\"dataframe\">\n",
       "  <thead>\n",
       "    <tr style=\"text-align: right;\">\n",
       "      <th></th>\n",
       "      <th></th>\n",
       "      <th>Actual</th>\n",
       "      <th>Predicted (BDT)</th>\n",
       "      <th>Predicted (NN)</th>\n",
       "    </tr>\n",
       "    <tr>\n",
       "      <th></th>\n",
       "      <th>entry</th>\n",
       "      <th></th>\n",
       "      <th></th>\n",
       "      <th></th>\n",
       "    </tr>\n",
       "  </thead>\n",
       "  <tbody>\n",
       "    <tr>\n",
       "      <th>df4</th>\n",
       "      <th>99302</th>\n",
       "      <td>2327.212189</td>\n",
       "      <td>1936.484480</td>\n",
       "      <td>1936.484480</td>\n",
       "    </tr>\n",
       "    <tr>\n",
       "      <th rowspan=\"2\" valign=\"top\">df2</th>\n",
       "      <th>226251</th>\n",
       "      <td>1584.384448</td>\n",
       "      <td>68.697032</td>\n",
       "      <td>68.697032</td>\n",
       "    </tr>\n",
       "    <tr>\n",
       "      <th>74163</th>\n",
       "      <td>2863.516649</td>\n",
       "      <td>3070.913539</td>\n",
       "      <td>3070.913539</td>\n",
       "    </tr>\n",
       "    <tr>\n",
       "      <th>df3</th>\n",
       "      <th>329985</th>\n",
       "      <td>2100.716836</td>\n",
       "      <td>2471.897377</td>\n",
       "      <td>2471.897377</td>\n",
       "    </tr>\n",
       "    <tr>\n",
       "      <th>df2</th>\n",
       "      <th>84783</th>\n",
       "      <td>0.000000</td>\n",
       "      <td>2492.755437</td>\n",
       "      <td>2492.755437</td>\n",
       "    </tr>\n",
       "    <tr>\n",
       "      <th>...</th>\n",
       "      <th>...</th>\n",
       "      <td>...</td>\n",
       "      <td>...</td>\n",
       "      <td>...</td>\n",
       "    </tr>\n",
       "    <tr>\n",
       "      <th>df6</th>\n",
       "      <th>730432</th>\n",
       "      <td>3230.075121</td>\n",
       "      <td>3466.327530</td>\n",
       "      <td>3466.327530</td>\n",
       "    </tr>\n",
       "    <tr>\n",
       "      <th>df3</th>\n",
       "      <th>264991</th>\n",
       "      <td>1339.781714</td>\n",
       "      <td>1759.803494</td>\n",
       "      <td>1759.803494</td>\n",
       "    </tr>\n",
       "    <tr>\n",
       "      <th>df6</th>\n",
       "      <th>1141050</th>\n",
       "      <td>3426.003432</td>\n",
       "      <td>1468.175697</td>\n",
       "      <td>1468.175697</td>\n",
       "    </tr>\n",
       "    <tr>\n",
       "      <th rowspan=\"2\" valign=\"top\">df4</th>\n",
       "      <th>86074</th>\n",
       "      <td>24.961363</td>\n",
       "      <td>3794.150797</td>\n",
       "      <td>3794.150797</td>\n",
       "    </tr>\n",
       "    <tr>\n",
       "      <th>7685</th>\n",
       "      <td>160.858143</td>\n",
       "      <td>1412.607610</td>\n",
       "      <td>1412.607610</td>\n",
       "    </tr>\n",
       "  </tbody>\n",
       "</table>\n",
       "<p>191927 rows × 3 columns</p>\n",
       "</div>"
      ],
      "text/plain": [
       "                  Actual  Predicted (BDT)  Predicted (NN)\n",
       "    entry                                                \n",
       "df4 99302    2327.212189      1936.484480     1936.484480\n",
       "df2 226251   1584.384448        68.697032       68.697032\n",
       "    74163    2863.516649      3070.913539     3070.913539\n",
       "df3 329985   2100.716836      2471.897377     2471.897377\n",
       "df2 84783       0.000000      2492.755437     2492.755437\n",
       "...                  ...              ...             ...\n",
       "df6 730432   3230.075121      3466.327530     3466.327530\n",
       "df3 264991   1339.781714      1759.803494     1759.803494\n",
       "df6 1141050  3426.003432      1468.175697     1468.175697\n",
       "df4 86074      24.961363      3794.150797     3794.150797\n",
       "    7685      160.858143      1412.607610     1412.607610\n",
       "\n",
       "[191927 rows x 3 columns]"
      ]
     },
     "execution_count": 44,
     "metadata": {},
     "output_type": "execute_result"
    }
   ],
   "source": [
    "df_ML_combLLP = pd.DataFrame({'Actual': y_combLLP_test, 'Predicted (BDT)': y_combLLP_pred_BDT,\n",
    "                      'Predicted (NN)': y_combLLP_pred_NN})\n",
    "df_ML_combLLP"
   ]
  },
  {
   "cell_type": "code",
   "execution_count": null,
   "metadata": {},
   "outputs": [],
   "source": []
  }
 ],
 "metadata": {
  "kernelspec": {
   "display_name": "Python 3",
   "language": "python",
   "name": "python3"
  },
  "language_info": {
   "codemirror_mode": {
    "name": "ipython",
    "version": 3
   },
   "file_extension": ".py",
   "mimetype": "text/x-python",
   "name": "python",
   "nbconvert_exporter": "python",
   "pygments_lexer": "ipython3",
   "version": "3.7.6"
  }
 },
 "nbformat": 4,
 "nbformat_minor": 4
}
